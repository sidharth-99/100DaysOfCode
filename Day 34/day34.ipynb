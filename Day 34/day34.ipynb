{
 "cells": [
  {
   "cell_type": "code",
   "execution_count": 6,
   "metadata": {},
   "outputs": [],
   "source": [
    "#Day 34"
   ]
  },
  {
   "cell_type": "code",
   "execution_count": 7,
   "metadata": {},
   "outputs": [
    {
     "data": {
      "text/plain": [
       "<Response [200]>"
      ]
     },
     "execution_count": 7,
     "metadata": {},
     "output_type": "execute_result"
    }
   ],
   "source": [
    "import requests\n",
    "\n",
    "params = {\n",
    "    \"amount\":10,\n",
    "    \"type\":\"boolean\"\n",
    "}\n",
    "response = requests.get(\"https://opentdb.com/api.php\",params=params)\n",
    "\n",
    "response\n"
   ]
  },
  {
   "cell_type": "code",
   "execution_count": 22,
   "metadata": {},
   "outputs": [],
   "source": [
    "import json\n",
    "data = response.json()\n"
   ]
  },
  {
   "cell_type": "code",
   "execution_count": 25,
   "metadata": {},
   "outputs": [],
   "source": [
    "question_data = data['results']"
   ]
  },
  {
   "cell_type": "code",
   "execution_count": 26,
   "metadata": {},
   "outputs": [
    {
     "data": {
      "text/plain": [
       "[{'type': 'boolean',\n",
       "  'difficulty': 'easy',\n",
       "  'category': 'Science &amp; Nature',\n",
       "  'question': 'Celiac Disease is a disease that effects the heart, causing those effected to be unable to eat meat.',\n",
       "  'correct_answer': 'False',\n",
       "  'incorrect_answers': ['True']},\n",
       " {'type': 'boolean',\n",
       "  'difficulty': 'medium',\n",
       "  'category': 'Entertainment: Japanese Anime &amp; Manga',\n",
       "  'question': 'In Full Metal Panic!, Whispered are those who are capable of creating Black Technology.',\n",
       "  'correct_answer': 'True',\n",
       "  'incorrect_answers': ['False']},\n",
       " {'type': 'boolean',\n",
       "  'difficulty': 'medium',\n",
       "  'category': 'General Knowledge',\n",
       "  'question': 'An eggplant is a vegetable.',\n",
       "  'correct_answer': 'False',\n",
       "  'incorrect_answers': ['True']},\n",
       " {'type': 'boolean',\n",
       "  'difficulty': 'medium',\n",
       "  'category': 'History',\n",
       "  'question': 'The two atomic bombs dropped on Japan by the United States in August 1945 were named &#039;Little Man&#039; and &#039;Fat Boy&#039;.',\n",
       "  'correct_answer': 'False',\n",
       "  'incorrect_answers': ['True']},\n",
       " {'type': 'boolean',\n",
       "  'difficulty': 'easy',\n",
       "  'category': 'Entertainment: Cartoon &amp; Animations',\n",
       "  'question': 'Waylon Smithers from &quot;The Simpsons&quot; was originally black when he first appeared in the series.',\n",
       "  'correct_answer': 'True',\n",
       "  'incorrect_answers': ['False']},\n",
       " {'type': 'boolean',\n",
       "  'difficulty': 'hard',\n",
       "  'category': 'Entertainment: Musicals &amp; Theatres',\n",
       "  'question': 'The protagonist&#039;s names in &#039;Who&#039;s Afraid of Virginia Woolf&#039;, George and Martha, were derived from George Washington and his wife.',\n",
       "  'correct_answer': 'True',\n",
       "  'incorrect_answers': ['False']},\n",
       " {'type': 'boolean',\n",
       "  'difficulty': 'medium',\n",
       "  'category': 'Entertainment: Music',\n",
       "  'question': 'Scottish producer Calvin Harris is from the town of Dumfries, Scotland.',\n",
       "  'correct_answer': 'True',\n",
       "  'incorrect_answers': ['False']},\n",
       " {'type': 'boolean',\n",
       "  'difficulty': 'easy',\n",
       "  'category': 'Entertainment: Board Games',\n",
       "  'question': 'There is a Donald Trump Board Game, which was made in 1989.',\n",
       "  'correct_answer': 'True',\n",
       "  'incorrect_answers': ['False']},\n",
       " {'type': 'boolean',\n",
       "  'difficulty': 'medium',\n",
       "  'category': 'Entertainment: Comics',\n",
       "  'question': 'In the webcomic Homestuck, the first character introduced is Dave Strider.',\n",
       "  'correct_answer': 'False',\n",
       "  'incorrect_answers': ['True']},\n",
       " {'type': 'boolean',\n",
       "  'difficulty': 'easy',\n",
       "  'category': 'History',\n",
       "  'question': 'The Cold War ended with Joseph Stalin&#039;s death.',\n",
       "  'correct_answer': 'False',\n",
       "  'incorrect_answers': ['True']}]"
      ]
     },
     "execution_count": 26,
     "metadata": {},
     "output_type": "execute_result"
    }
   ],
   "source": [
    "question_data"
   ]
  },
  {
   "cell_type": "code",
   "execution_count": null,
   "metadata": {},
   "outputs": [],
   "source": []
  }
 ],
 "metadata": {
  "kernelspec": {
   "display_name": "code",
   "language": "python",
   "name": "python3"
  },
  "language_info": {
   "codemirror_mode": {
    "name": "ipython",
    "version": 3
   },
   "file_extension": ".py",
   "mimetype": "text/x-python",
   "name": "python",
   "nbconvert_exporter": "python",
   "pygments_lexer": "ipython3",
   "version": "3.12.1"
  }
 },
 "nbformat": 4,
 "nbformat_minor": 2
}
