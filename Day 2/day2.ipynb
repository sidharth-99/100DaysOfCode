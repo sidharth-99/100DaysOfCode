{
 "cells": [
  {
   "cell_type": "markdown",
   "metadata": {},
   "source": [
    "Day 2"
   ]
  },
  {
   "cell_type": "code",
   "execution_count": null,
   "metadata": {},
   "outputs": [],
   "source": [
    "# Teaches about primitive datatypes - int, float , string etc\n",
    "# use _ for large numbers in int\n",
    "# type check, datatype for function,  Eg len is not supported for int\n",
    "# type casting\n",
    "# Operators, ** for power\n",
    "# BMI code\n",
    "# formating , f'''a{variable}'''\n"
   ]
  }
 ],
 "metadata": {
  "kernelspec": {
   "display_name": "base",
   "language": "python",
   "name": "python3"
  },
  "language_info": {
   "name": "python",
   "version": "3.11.5"
  }
 },
 "nbformat": 4,
 "nbformat_minor": 2
}
