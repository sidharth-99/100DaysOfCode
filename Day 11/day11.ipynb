{
 "cells": [
  {
   "cell_type": "markdown",
   "metadata": {},
   "source": [
    "Day 11"
   ]
  },
  {
   "cell_type": "code",
   "execution_count": 1,
   "metadata": {},
   "outputs": [],
   "source": [
    "# Create a program for playing Blackjack"
   ]
  },
  {
   "cell_type": "code",
   "execution_count": 2,
   "metadata": {},
   "outputs": [],
   "source": [
    "import random\n",
    "\n",
    "cards = [11, 2, 3, 4, 5, 6, 7, 8, 9, 10, 10, 10, 10]\n",
    "logo = \"\"\"\n",
    ".------.            _     _            _    _            _    \n",
    "|A_  _ |.          | |   | |          | |  (_)          | |   \n",
    "|( \\/ ).-----.     | |__ | | __ _  ___| | ___  __ _  ___| | __\n",
    "| \\  /|K /\\  |     | '_ \\| |/ _` |/ __| |/ / |/ _` |/ __| |/ /\n",
    "|  \\/ | /  \\ |     | |_) | | (_| | (__|   <| | (_| | (__|   < \n",
    "`-----| \\  / |     |_.__/|_|\\__,_|\\___|_|\\_\\ |\\__,_|\\___|_|\\_\\\\\n",
    "      |  \\/ K|                            _/ |                \n",
    "      `------'                           |__/           \n",
    "\"\"\""
   ]
  },
  {
   "cell_type": "code",
   "execution_count": 6,
   "metadata": {},
   "outputs": [
    {
     "name": "stdout",
     "output_type": "stream",
     "text": [
      "\u001b[2J\n",
      "\n",
      ".------.            _     _            _    _            _    \n",
      "|A_  _ |.          | |   | |          | |  (_)          | |   \n",
      "|( \\/ ).-----.     | |__ | | __ _  ___| | ___  __ _  ___| | __\n",
      "| \\  /|K /\\  |     | '_ \\| |/ _` |/ __| |/ / |/ _` |/ __| |/ /\n",
      "|  \\/ | /  \\ |     | |_) | | (_| | (__|   <| | (_| | (__|   < \n",
      "`-----| \\  / |     |_.__/|_|\\__,_|\\___|_|\\_\\ |\\__,_|\\___|_|\\_\\\n",
      "      |  \\/ K|                            _/ |                \n",
      "      `------'                           |__/           \n",
      "\n",
      "Computer first card: 11\n",
      "your cards : [2, 11], current score: 13\n",
      "your cards : [2, 11, 5], current score: 18\n",
      "Computer first card: 11\n",
      "your final Hand : [2, 11, 5], Final score: 18\n",
      "Computers final Hand : [11, 10], Final score: 21\n",
      "Computer has the better score.. You Lose\n",
      "\u001b[2J\n",
      "\n",
      ".------.            _     _            _    _            _    \n",
      "|A_  _ |.          | |   | |          | |  (_)          | |   \n",
      "|( \\/ ).-----.     | |__ | | __ _  ___| | ___  __ _  ___| | __\n",
      "| \\  /|K /\\  |     | '_ \\| |/ _` |/ __| |/ / |/ _` |/ __| |/ /\n",
      "|  \\/ | /  \\ |     | |_) | | (_| | (__|   <| | (_| | (__|   < \n",
      "`-----| \\  / |     |_.__/|_|\\__,_|\\___|_|\\_\\ |\\__,_|\\___|_|\\_\\\n",
      "      |  \\/ K|                            _/ |                \n",
      "      `------'                           |__/           \n",
      "\n",
      "Computer first card: 10\n",
      "your cards : [9, 8], current score: 17\n",
      "your cards : [9, 8, 10], current score: 27\n",
      "Computer first card: 10\n",
      "your final Hand : [9, 8, 10], Final score: 27\n",
      "Computers final Hand : [10, 6, 10], Final score: 26\n",
      "You went over.... You Lose\n"
     ]
    }
   ],
   "source": [
    "\n",
    "while(True):\n",
    "    play =  input('''Do you want to play a Game of BlackJack? type 'y' or 'n''')\n",
    "    if play=='n':\n",
    "        break\n",
    "    print(chr(27) + \"[2J\")\n",
    "    print(logo)\n",
    "\n",
    "    my_cards=[]\n",
    "    score = 0\n",
    "    first = random.choice(cards)\n",
    "    second = random.choice(cards)\n",
    "    if first==11 and second == 11:\n",
    "        first=2\n",
    "    my_cards = [first,second]\n",
    "    score = first+second\n",
    "\n",
    "    dealer_cards=[]\n",
    "    dealer_score = 0\n",
    "    dealer = random.choice(cards)\n",
    "    dealer_score += dealer\n",
    "    dealer_cards.append(dealer)\n",
    "\n",
    "    print(f'Computer first card: {dealer_score}')\n",
    "    print(f'your cards : {my_cards}, current score: {score}')\n",
    "    while(True):\n",
    "        hit = input('''Type 'y' to get another card ,type 'n' to pass ''') \n",
    "        if hit=='y':\n",
    "            choice = random.choice(cards)\n",
    "            score+=choice\n",
    "            if score>21 and choice==11:\n",
    "                choice=1\n",
    "                score-=10\n",
    "            my_cards.append(choice)\n",
    "            print(f'your cards : {my_cards}, current score: {score}')\n",
    "            print(f'Computer first card: {dealer_score}')\n",
    "            if score>=21 :\n",
    "                break\n",
    "        else:\n",
    "            break\n",
    "    \n",
    "    print(f'your final Hand : {my_cards}, Final score: {score}')\n",
    "    while(True):\n",
    "        dealer = random.choice(cards)\n",
    "        dealer_score += dealer\n",
    "        if dealer_score>21 and dealer==11:\n",
    "            dealer = 1\n",
    "            dealer_score-=10\n",
    "        \n",
    "        dealer_cards.append(dealer)\n",
    "\n",
    "        if dealer_score>=17:\n",
    "            break\n",
    "\n",
    "    print(f'Computers final Hand : {dealer_cards}, Final score: {dealer_score}')\n",
    "    \n",
    "    if score>21:\n",
    "        print('You went over.... You Lose')\n",
    "    elif score<dealer_score:\n",
    "        print('Computer has the better score.. You Lose')\n",
    "        \n",
    "     "
   ]
  },
  {
   "cell_type": "code",
   "execution_count": null,
   "metadata": {},
   "outputs": [],
   "source": []
  }
 ],
 "metadata": {
  "kernelspec": {
   "display_name": "base",
   "language": "python",
   "name": "python3"
  },
  "language_info": {
   "codemirror_mode": {
    "name": "ipython",
    "version": 3
   },
   "file_extension": ".py",
   "mimetype": "text/x-python",
   "name": "python",
   "nbconvert_exporter": "python",
   "pygments_lexer": "ipython3",
   "version": "3.11.5"
  }
 },
 "nbformat": 4,
 "nbformat_minor": 2
}
